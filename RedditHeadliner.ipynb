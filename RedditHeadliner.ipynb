{
 "cells": [
  {
   "cell_type": "code",
   "execution_count": 2,
   "metadata": {},
   "outputs": [
    {
     "name": "stdout",
     "output_type": "stream",
     "text": [
      "Collecting praw\n",
      "  Downloading praw-7.1.0-py3-none-any.whl (152 kB)\n",
      "Collecting prawcore<2.0,>=1.3.0\n",
      "  Downloading prawcore-1.5.0-py3-none-any.whl (15 kB)\n",
      "Collecting update-checker>=0.17\n",
      "  Downloading update_checker-0.18.0-py3-none-any.whl (7.0 kB)\n",
      "Collecting websocket-client>=0.54.0\n",
      "  Downloading websocket_client-0.57.0-py2.py3-none-any.whl (200 kB)\n",
      "Requirement already satisfied: requests<3.0,>=2.6.0 in c:\\users\\heather\\anaconda3\\lib\\site-packages (from prawcore<2.0,>=1.3.0->praw) (2.22.0)\n",
      "Requirement already satisfied: six in c:\\users\\heather\\anaconda3\\lib\\site-packages (from websocket-client>=0.54.0->praw) (1.14.0)\n",
      "Requirement already satisfied: certifi>=2017.4.17 in c:\\users\\heather\\anaconda3\\lib\\site-packages (from requests<3.0,>=2.6.0->prawcore<2.0,>=1.3.0->praw) (2019.11.28)\n",
      "Requirement already satisfied: idna<2.9,>=2.5 in c:\\users\\heather\\anaconda3\\lib\\site-packages (from requests<3.0,>=2.6.0->prawcore<2.0,>=1.3.0->praw) (2.8)\n",
      "Requirement already satisfied: chardet<3.1.0,>=3.0.2 in c:\\users\\heather\\anaconda3\\lib\\site-packages (from requests<3.0,>=2.6.0->prawcore<2.0,>=1.3.0->praw) (3.0.4)\n",
      "Requirement already satisfied: urllib3!=1.25.0,!=1.25.1,<1.26,>=1.21.1 in c:\\users\\heather\\anaconda3\\lib\\site-packages (from requests<3.0,>=2.6.0->prawcore<2.0,>=1.3.0->praw) (1.25.8)\n",
      "Installing collected packages: prawcore, update-checker, websocket-client, praw\n",
      "Successfully installed praw-7.1.0 prawcore-1.5.0 update-checker-0.18.0 websocket-client-0.57.0\n"
     ]
    }
   ],
   "source": [
    "import sys\n",
    "#!{sys.executable} -m pip install praw"
   ]
  },
  {
   "cell_type": "code",
   "execution_count": 3,
   "metadata": {},
   "outputs": [
    {
     "name": "stderr",
     "output_type": "stream",
     "text": [
      "ERROR: Could not find a version that satisfies the requirement urllib (from versions: none)\n",
      "ERROR: No matching distribution found for urllib\n"
     ]
    }
   ],
   "source": [
    "import sys\n",
    "#!{sys.executable} -m pip install urllib"
   ]
  },
  {
   "cell_type": "code",
   "execution_count": 6,
   "metadata": {},
   "outputs": [],
   "source": [
    "import praw\n",
    "import pandas as pd\n",
    "import datetime as dt\n",
    "import tensorflow as tf"
   ]
  },
  {
   "cell_type": "code",
   "execution_count": 8,
   "metadata": {},
   "outputs": [],
   "source": [
    "#connects to SBCreds.py - a file that defines each of these variabes\n",
    "from RedditCreds import client_id, client_secret, username, password\n",
    "\n",
    "\n",
    "\n",
    "reddit = praw.Reddit(client_id=client_id, \\\n",
    "                     client_secret=client_secret, \\\n",
    "                     user_agent='Headliner', \\\n",
    "                     username=username, \\\n",
    "                     password=password)"
   ]
  },
  {
   "cell_type": "code",
   "execution_count": 9,
   "metadata": {},
   "outputs": [],
   "source": [
    "subreddit = reddit.subreddit('politics')\n",
    "\n"
   ]
  },
  {
   "cell_type": "code",
   "execution_count": 10,
   "metadata": {},
   "outputs": [],
   "source": [
    "new_subreddit = subreddit.hot(limit=100000)\n",
    "#rerun with every option to build corpus"
   ]
  },
  {
   "cell_type": "code",
   "execution_count": 13,
   "metadata": {},
   "outputs": [],
   "source": [
    "headlinelist=[]\n"
   ]
  },
  {
   "cell_type": "code",
   "execution_count": 14,
   "metadata": {},
   "outputs": [],
   "source": [
    "for submission in new_subreddit:\n",
    "    headlinelist.append(submission.title)\n",
    "    \n"
   ]
  },
  {
   "cell_type": "code",
   "execution_count": 15,
   "metadata": {},
   "outputs": [
    {
     "data": {
      "text/plain": [
       "863"
      ]
     },
     "execution_count": 15,
     "metadata": {},
     "output_type": "execute_result"
    }
   ],
   "source": [
    "headlinelist[2]\n",
    "len(headlinelist)"
   ]
  },
  {
   "cell_type": "code",
   "execution_count": 16,
   "metadata": {},
   "outputs": [
    {
     "name": "stdout",
     "output_type": "stream",
     "text": [
      "843\n",
      "{\"National groups pour millions into Alaska's U.S. Senate race, suggesting it's tightening - Alaska Public Media\", 'Nancy Pelosi on the Legacy of Justice Ruth Bader Ginsburg', 'Donald Trump suggests Amy Coney Barrett be confirmed without hearing', \"Donald Trump's great performance nears its dramatic climax: Stay tuned!\", \"Trump 'misled Fox News' over when he heard about Hope Hicks' Covid-19 result\", 'Trump says he’s not contagious. Health experts say that’s not certain.', \"Amy Coney Barrett's Nomination Is the Culmination of Various Long-Term Right-Wing Projects\", 'Harris calls Barrett confirmation hearing \"illegimate\" and \"reckless\"', 'Fauci says he did not consent to appearing in Trump ad', \"Pa. House Democrats, Republicans Call For Rep. Aaron Bernstine's Resignation; Video Allegedly Shows Him Encouraging Young Son To Smoke\", 'Trump wants nuclear accord with Putin by election', 'Naked Republican hypocrisy is destroying trust in Supreme Court: Reagan, Bush lawyers | Republicans are using a deeply unfair process to confirm Supreme Court nominee Amy Coney Barrett. Build faith in democracy by letting the people decide.', \"Eric Trump claims his father received 'a vaccine' for Covid-19\", \"Former People of Praise Member Calls on Senators to Allow Her to Testify at Amy Coney Barrett's Confirmation Hearing\", 'Suspects in alleged Michigan kidnap plot would be “domestic terrorists” if convicted', 'White House Claims Trump Is No Longer Infectious, Doesn’t Say if He Tested Negative', \"Lindsey Graham in debate forum: Black people can go anywhere in South Carolina if they're 'not liberal'\", 'Trump is trailing Biden by an average of 10.5 percentage points less than a month before Election Day', \"Matthew McConaughey reunited 'Dazed and Confused' cast to support voting\", 'Elizabeth Warren campaigns for Joe Biden in New Hampshire, warns Democrats not to grow complacent', 'Majority of voters say Trump hasn\\'t paid \"fair share\" of federal income taxes as Biden leads by 12 points', 'Fauci says he was taken out of context in new Trump campaign ad touting coronavirus response', 'Court orders seizure of ransomware botnet controls as U.S. election nears', 'It’s Not ‘Court Packing.’ Don’t Be A Moron and Call It That.', \"Trump declares himself 'immune' to Covid-19. His doctors won't say when he last tested negative.\", 'Twitter slapped a warning label on a Trump tweet that says he is immune from the coronavirus and no longer contagious', 'Trump Wants a Repeat of Bush v. Gore. Amy Coney Barrett Might Make It Happen. In 2000 when The GOP liked mail-in ballots, she defended them. Now she could strike them down.', \"Trump's Indian worshipper dies 'depressed' over president's COVID-19 illness\", \"Biden is going after Trump's core voters in Michigan where Democrats could reclaim the battleground state after the president's surprise victory there in 2016\", 'Trump will never win Minnesota Rep. Ilhan Omar says — Donald Trump has no chance of winning Minnesota in the 2020 presidential election, Rep. Ilhan Omar says. Election Day fears are also addressed in conversation with Jonathan Capehart.', \"Senate Democrats seek answers on materials missing from Amy Coney Barrett's Senate paperwork\", 'Now in Government Food Aid Boxes: A Letter From Donald Trump', 'Appeals court rules Trump’s border wall illegal, blocks further construction', 'The GOP’s position could get even worse', \"Coronavirus: Donald Trump claims he has 'protective glow' and 'immunity' from COVID-19\", 'Proud Boys supporter warns of \"civil war\" if Donald Trump loses election', 'Appeals court allows Texas governor’s mail ballot drop-off restrictions to stay in place', \"Amy Coney Barrett went to my all-girls high school. I hope she's not confirmed\", \"Lara Trump, Fox News host Chris Wallace spar over president's family removing masks at first debate\", 'Trump’s Struggles Ripple Across the Sun Belt, Endangering G.O.P. Stronghold. President Trump is fading nationally as he alienates women, seniors and suburbanites, polls show. But private G.O.P. surveys show he is in close races in solidly red states, too.', \"Amy Coney Barrett's hearing kicks off with hypocrisy and healthcare | David Smith\", \"Video shows pro-Trump thug harass BLM supporters, smashing their merch table — 'I'll kick you in the forehead.'\", 'Black churches mobilizing voters despite virus challenges', \"Regeneron CEO: Trump 'is a case of one' and 'weakest evidence' for Covid-19 treatment\", \"Coons: Barrett has 'views that make her not qualified to serve on the Supreme Court\", \"One-Third of Americans Can't Pay Their Bills as Stimulus Talks Stall\", 'Amy Coney Barrett hearing: Republican who voted against both Obama nominees complains about partisan politics', 'Federal judge upholds Minnesota absentee ballot extension', 'Biden Enjoys 12-Point Lead Over Trump in Large Part Thanks to Huge Edge With Women', 'Testing Alone Won’t Stop Covid. Just Look at the White House', 'Harry Reid on the Senate, the Supreme Court, and a Time for Major Change', \"Fact check: Alex Jones' claims about Trump's COVID-19 treatments, 'deep state' are false\", \"Amy Coney Barrett stresses late Justice Scalia's influence in opening statement to Senate\", 'What is Lindsay Graham Hiding? S.C. Senator Refuses to Test for COVID-19 Ahead of Debate With Challenger Jamie Harrison, Raising Suspicions', 'Pete Buttigieg\\'s abortion comments to Chris Wallace go viral: \"I trust women to draw the line\"', 'Trump is under fire for using the Marine Band at an ostensibly non-political event that devolved into campaigning', 'Joe Biden Poised to Flip Critical District In Historically Red Nebraska', \"'Propaganda': Trump Campaign Exposed for Using Dr. Fauci Out of Context in New Ad\", '\"Pack\" the Supreme Court? Absolutely 100% yes — it\\'s the only way to save democracy. There are many ways to reduce the destructive political power of the Supreme Court. They all start with more seats', \"Top general: 'Zero' role for US military in electoral disputes\", 'US Cracks Down On Chinese Companies Exporting Human Hair From Internment Camps', \"Arkansas GOP governor on Trump rallies: There shouldn't be mass gatherings without social distancing\", 'Amid pandemic and presidential race, Supreme Court confirmation hearing will be unprecedented', 'Big turnout as early in-person voting starts in Georgia', \"Targeting Arizona's left, Sen. Bernie Sanders joins video town hall for Biden\", 'Amy Coney Barrett hearing turns into a get-out-the-vote effort', 'Column: Biden-Harris will move our nation forward', 'Trump resumes campaign with Florida rally 10 days after COVID-19 disclosure', 'Buttigieg on National Coming Out Day, Barrett opening statement', 'Republicans risk losing Texas, Florida & Arizona state races', 'White America: What More Can You Possibly Ask of Us?', 'Biden Visit Monday Caps Push Into Ohio, Once a Longshot', 'A shrinking, fiercely ideological party is clinging to power no matter the cost', 'Pete Buttigieg ripped Donald Trump to shreds for being too “afraid” to debate Joe Biden', 'Black turnout for Biden in these 3 cities viewed as key in race vs. Trump', 'Gamblers stake $150M on election, bet the farm on Biden', 'Strapped for cash, Trump yanks TV ads in key states as Biden spending surges', \"Joe Biden's polling better than any challenger since 1936\", 'Mark Meadows walks away after reporters ask him to answer questions with a mask on', 'Trump’s EPA claimed ‘success’ in Superfund cleanups — but climate change went unaddressed', 'Donald Trump was complicit in the plot to kidnap Michigan Gov. Gretchen Whitmer', 'Jaime Harrison Raises a Record $57 Million as He Challenges Lindsey Graham', \"Analysis: Trump's war on Obamacare is coming back to bite him\", 'Man Arrested for Rally Shooting Death Wasn’t Licensed to Be Security Guard in Denver: Agency', \"White House chief of staff refuses to 'talk through a mask' to reporters\", 'Opinion | Another act of sabotage in the Trump administration’s never-ending plot to wreck the census', \"Judiciary Committee Democrats pen second letter to DOJ over Barrett disclosures: 'raises more questions that it answers'\", 'Something that slipped by without much comment in the VP debate: Biden/Harris will decriminalize marijuana.', 'What Else Is Barrett Hiding? Dems Demand Answers After Trump Supreme Court Pick Caught Concealing Talks to Anti-Abortion Groups', 'Republicans, it’s a little late to start distancing', 'Majority in new poll says Supreme Court vacancy should be filled by election winner', \"Democrats warn Lindsey Graham not to go through with a 'reckless' Supreme Court hearing after he refused to get coronavirus test\", 'Unofficial ballot drop boxes popping up throughout the state worry elections officials', '‘Hatred is taught’: Pennsylvania’s second lady films a woman’s racist attack at the grocery store', 'Biden leads Trump in Michigan and Nevada, and race is tied in Iowa — CBS News Battleground Tracker poll', 'Biden leads Trump by 6 points in Michigan and Nevada, race tied in Iowa: poll', '‘Drop your ballot in the dropbox like it’s hot.’ DNC uses Snoop Dogg hit in voting ad', 'Fury as Lindsey Graham says young black people can go anywhere, but only if they’re conservative', 'Joe Biden’s polling better than any challenger since 1936', \"Sen. Lindsey Graham says Black people are free to 'go anywhere' in South Carolina so long as they're conservative\", \"Senate kicks off fight over Trump's Supreme Court pick\", 'Trump’s Taxes Give Biden Blueprint to Fix System Rigged for Rich', 'Gretchen Whitmer, who was at the center of a failed kidnapping plot, says Trump encourages domestic terrorists by legitimizing their actions', 'More Texans could vote Democratic this election. Why is the mood shifting in this traditionally Republican state?', 'An October Surprise of a Military Kind — When all else fails, start a war.', 'Early voting begins in Georgia with long lines, high turnout', 'Libertarian challenger Ricky Harrington touts polling against Tom Cotton', \"Twitter Flags Trump's Tweet Claiming He Is Immune to Coronavirus\", 'Amateur hour at the Trump White House', 'As Trump stumbles, voters finalize their choices, and Biden’s lead grows', 'Chris Wallace Stings Lara Trump Over First Family Going Maskless At The Debate', 'Trump chief of staff Mark Meadows refuses to speak to reporters with mask on', \"With 23 Days to Go, Trump Still Doesn't Know What He'll Do if Re-Elected\", 'Top General Declines to Endorse Trump’s Afghan Withdrawal Timeline', 'Mark Meadows, who was with infected Trump, refuses to wear mask while speaking with reporters', 'Portland group topples Roosevelt and Lincoln statues in protest of Columbus day | US news', 'Biden calls Trump’s campaign rally tonight at Sanford airport ‘reckless’', 'Microsoft disrupts international botnet group ahead of Election Day', \"Trump's task: Resetting campaign that GOP fears is slipping\", 'Georgia’s new touchscreen voting system survives court challenge', 'Tax records show 200 entities funneled money to Trump properties while reaping benefits from White House: NYT', 'With Covid back in spotlight, Iowa emerges as test for Trump. Can he keep it red?', \"Fauci on planned Trump rallies: 'Now is even a worse time to do that'\", '‘Coronavirus killed my mother. I cried when Trump tested positive’', 'Trump Defectors Help Biden Build Leads in Wisconsin and Michigan', 'Anthony Fauci says Trump campaign ad quote misleading', 'Malcolm Nance: Militant white supremacists are America’s ‘Vanilla ISIS’ — Terrorism Analyst Malcolm Nance says paramilitary groups in the U.S., like those who plotted to kidnap Michigan Gov. Whitmer, are IS equivalents working to spread a radicalized ideology, with Trump as “their Al-Baghdadi.”', 'If Trump is so tough on terrorism, why did the Taliban just endorse him?', 'Trump faces unusual barrier to COVID-19 aid: GOP allies', 'Gamblers betting Susan Collins loses in Maine, Lindsey Graham holds his seat', 'Discussion Thread: 2020 General Election Daily Updates (October 12th)', 'Trump taps U.S. Marine Band for White House event and raises questions about employing the military for political purposes', 'Fix America by Undoing Decades of Privatization', 'Amy Coney Barrett, Trump’s Supreme Court Pick, Signed Anti-Abortion Ad', 'Locked in Tight Race, GOP Sen. Dan Sullivan Caught in Environmental Scandal — Democratic challenger Al Gross is running an ad blitz blasting Sullivan for his ties to Pebble Mine, a controversial Alaskan mining project.', 'Trump says he stopped medication for coronavirus', \"Graham's last stand? Senator leads Barrett court hearings\", 'Did Amy Coney Barrett Lie to Congress in 2017 or Is She Just Clueless? Maybe she thinks the anti-LGBTQ agenda of a group she worked for is “defending biblical principles.”', 'Militia expert: Trump’s comments were ‘call to arms’ to white power extremists', \"California Republicans are allegedly setting up fake 'official' drop-off boxes to harvest ballots\", 'Second Debate Canceled as Biden Condemns Trump for ‘Reckless’ Conduct', \"Read Amy Coney Barrett's Prepared Opening Remarks For Senate Confirmation Hearing\", 'Trump’s Campaign Talk of Troop Withdrawals Doesn’t Match Military Reality', \"He's Part Of The 1%. And He Thinks His Taxes Aren't High Enough\", 'Trump claims Obama/Biden years marked by \"chaos, hatred & discord\"', 'Eric Trump cancels event at Michigan gun shop after former employee is linked to domestic terror plot against governor', 'Doctors ask Supreme Court to strike down Trump abortion rule', \"'People in Need Can't Wait': To Put Onus on Senate GOP, Progressives Urge Pelosi to Take $1.8 Trillion Covid Relief Package\", \"It's Time to Unpack the Court\", 'How to Win a Green New Deal Under Biden — With effective organizing and consistent pressure, young climate activists proved that Biden can be pushed to adopt more progressive policies.', 'We Asked Americans How They Feel About The U.S. Flag. It Got Interesting.', 'Talked Up as Spoiler, Kanye West’s 2020 Bid Draws Mostly Shrugs', 'Pa. Gov. Tom Wolf condemns hate-filled verbal attack on Second Lady Giselle Fetterman', 'A Modest Proposal to Prevent Sabotage by the Trump Regime', 'The Taliban Hopes Trump Will Win the U.S. Election', 'As Trump Recovers, He Retreats to a Conservative Media Safe Space', 'Trump, Yet to Reveal COVID Test Results, Is Resuming “Very Big” Rallies', 'Republicans express fears Trump will lose presidential election', 'Climate change a factor in most of the 7,000 natural disasters over last 20 years: UN report', \"Eric Trump falsely calls president's coronavirus treatment a vaccine\", \"Biden: The 'only way' I'll lose is through 'chicanery' at polling places\", 'White House asks Congress to approve three arms sales to Taiwan - sources', 'Fauci says he didn’t agree to be in Trump campaign ad', 'Senator Joni Ernst calls for Judiciary Committee to get COVID tests, while Lindsey Graham refuses', 'Teen climate change activist Greta Thunberg endorses Joe Biden', \"Amy Coney Barrett: Democrats attack 'shameful' Supreme Court hearing\", 'Democrats Looking to Oust GOP Senators are Raking in Massive Amounts of Cash Ahead of the Election', 'Amy Coney Barrett Is As Cynical As Trump', 'After Badmouthing Fauci For Months, Trump Campaign Sneaks Him Into TV Ad', 'Mark Meadows refuses to wear mask while talking to reporters outside Barrett hearing', \"Fauci Fumes About Trump Campaign Ad: My 'Comments Were Taken Out of Context'\", \"The man behind the Lincoln Project's viral social media\", \"Trump's doctor says the President has tested negative on consecutive days\", 'Fauci says clip in Trump ad is out of context', 'Trump claims Covid immunity: ‘Having really a protective glow means something’', 'Jaime Harrison raises $57 million in campaign to unseat Lindsey Graham, shattering quarterly record', 'Amy Coney Barrett is the least popular Supreme Court nominee in recent history', 'Is It Time to Call in the U.N. Elections Monitors?', \"Washington Should Stop Pretending to Be Turkey's Ally\", 'Microsoft reportedly stops hacking operation targeting election', \"200 foreign governments, lobbying groups, and individuals that poured money into Trump's businesses profited from his administration: NYT\", 'Taliban endorses President Trump', 'Opinion | Here’s how Pence and Harris (and the fly) scored in the debate', 'Trump hoping to strike last-minute nuclear arms deal with Putin before election: report', 'Utah GOP Sen. Mike Lee, Recently Infected With Coronavirus, Attends SCOTUS Hearing', 'Sen. Mike Lee says he’s cured of COVID-19, attends Supreme Court confirmation hearing', 'Trump, GOP working to tamp down voting as a path to victory', 'Democrats seek to tie Barrett to Trump on Affordable Care Act as confirmation hearings begin', 'Pennsylvania second lady films woman calling her a racial slur at the grocery store', 'Twitter flags ‘misleading and potentially harmful’ Trump tweet on COVID-19 immunity', 'American households desperate for more COVID-19 financial relief as US economic recovery hangs in the balance', \"If Trump loses the election, it could be a 'massive blow' to populist leaders everywhere\", \"Congress Could Easily Make the Obamacare Supreme Court Case Disappear. Republicans Don't Want To.\", \"Susan Collins wrote legislation that made millions for her husband's lobbying firm\", 'Tapper lays out politicized moves Trump Cabinet is making ahead of election', 'Donald Trump Cancels TV Ads in Key States As Rival Joe Biden Dominates Airwaves', 'The Lincoln Project says \"thank you\" to Trump for recent actions', 'Trump’s COVID Task Force Concedes They’ll Never Get Trumpers to Wear Masks', 'Trump obsesses over ‘dominating’ covid-19 because he wants to look manly', 'Trump Is Returning to the Campaign Trail With Lies About COVID Immunity. And of course, Facebook is doing nothing to stop him', 'Trump-Appointed Judge: Minnesota Republicans ‘Are in Danger of Creating’ Election ‘Confusion’ at the Eleventh Hour', 'The Republican Party has embraced American fascism', 'GOP sees falling Trump stock as growing threat to Senate majority', 'Armed groups say they will show up at polling sites on Election Day', 'US judge orders White House and Department of Justice to confer about releasing unredacted Mueller report', 'Susan Collins Goes on the Attack', 'Senate showdown: Ossoff and Perdue to tangle in first debate', \"Wisconsin is battling America's worst coronavirus outbreak, and the state's broken politics are partly to blame\", \"Here's why some Arizona senior voters are trading Trump for Biden\", 'US election polls tracker: who is leading in the swing states?', 'Trump resuming pandemic rallies shows how little he’s learned about coronavirus', 'Top Senate Democrat sidesteps questions about expanding Supreme Court - \"The American people have watched Republicans packing the court over the last three and a half years,\" Sen Dick Durbin tells \"Meet the Press\"', 'Democratic Senator: Barrett Must Recuse Herself From Cases Involving Election', \"Amy Coney Barrett's Supreme Court hearing is a formality. But Democrats have one last card\", 'The GOP Men of the Senate Really Want You to Know Amy Coney Barrett Has 7 Kids', \"Dr. Anthony Fauci says Trump campaign ad takes him 'out of context,' insists he didn't endorse anyone\", 'First Thing election special: the Barrett hearings could be a holy war | US news', 'Twitter flags misleading Trump tweet claiming he\\'s \"immune\" from COVID-19', 'Landlords, lobbyists launch legal war against Trump’s eviction moratorium, aiming to unwind renter protections', 'Biden and Harris have earned our support to lead the nation', \"Eric Trump Says Nonexistent COVID-19 Vaccine His Dad 'Took' Worked Really 'Well'\", 'New reporting shows dark origins of Trump administration’s ongoing migrant family separation policy', 'Wall St strategists divided over how to trade a Biden win', 'Leader of NYC protest against Covid-19 rules arrested in alleged assault', 'Gloves come off early in Barrett confirmation hearing', 'Watchdog groups say Amy Coney Barrett hid controversial records, demand Notre Dame release all documents', 'Top general dodges on Afghanistan plans after Trump tweet', \"Trump drained 'the swamp' to his own properties in Florida and Washington, The New York Times details\", 'Pete Buttigieg expertly breaks down Amy Coney Barrett’s ominous Supreme Court opening statement', 'Will This Ad Turn Arizona Blue?', \"Donald Trump's health: A new front in the right's long war against reality. Why has the White House obfuscated Trump's medical condition? Because the right thinks it can make its own reality\", \"Twitter labels Trump tweet on coronavirus immunity as 'misleading'\", 'Harris to attend Amy Coney Barrett hearing remotely. The Democratic vice presidential nominee, a member of the Senate Judiciary Committee, says measures to protect against the coronavirus are inadequate.', \"Gen. Mark Milley Says The Military Plays 'No Role' In Elections\", 'Kansas Democratic Senate candidate breaks fundraising record', 'Trump promised to bring China to heel. He didn’t and the result is a pitched conflict between the world’s two major powers.', 'U.S. CDC reports 213,037 deaths from coronavirus', 'In Tweet Spree, Trump Says States Have Gone To Hell, Tells GOP To Hurry Up SCOTUS Hearing', 'Gov. Whitmer signs bills expanding criminal record expungement in Michigan', 'Doctor developing COVID-19 treatment says drug taken by Trump needs more trials before mass rollout', 'Texas adds nearly 300,000 more voters in two-week period', 'Trump Failed the 3 A.M. Test', 'Biden channels history to stress importance of 2020 U.S. election campaign', 'Make it stop', 'Review | Measuring the authoritarian mind-set of Trump’s followers', 'Michigan sheriff spotted at rally with men charged in scheme to kidnap, kill governor', \"Trump says Covid is 'disappearing' at first event since testing positive for coronavirus\", '28 arrested in Wisconsin protests days after prosecutors decline charges against officer who fatally shot 17-year-old Alvin Cole', \"Trump will be slammed with a pile of personal lawsuits once he leaves office. Here are 9 major ones he'll have to face.\", 'Covid-19 Soars in Red States as Trump Returns to Campaign Trail', 'The Trump Internet Is Freaking Out Over The Fizzling Out of Russiagate', 'As coronavirus cases climb, Trump peddles false \\'disappearing\\' pitch | There is no sane way to look at the landscape and see a viral threat that\\'s \"disappearing\" -- and yet, there was the president, pushing the message anyway.', 'Taliban endorse Donald Trump in US presidential race: report | DW | 11.10.2020', '2 Students, Teacher Tested Positive At School Attended By Amy Coney Barrett’s Children — School parents learned of positive tests for COVID-19 12 days after Barrett and her children attended the Rose Garden event.', \"Top US general pushes back at national security adviser's troop withdrawal announcement\", \"'We reject their support': Trump campaign strongly declines Taliban endorsement for his 2020 reelection\", 'PolitiFact - House Democrats’ new bill on the 25th Amendment, explained', \"High court: Whitmer's orders have 'no continuing legal effect'\", \"How professional wrestling perfectly explains Donald Trump's 'Superman' stunt\", 'Trump’s Rally Linked to at Least Nine Minnesota COVID Cases', 'Union council covering BIW workers endorses Gideon', 'Dr. Fauci Says His Trump Campaign Ad Quote Was Taken Out of Context', 'Toxic Trump is also a superspreader of hate', 'Twitter Flags Trump’s Tweet About Now Being ‘Immune’ to Virus', 'Trump made more than $200 million from foreign business interests since 2016', 'As Amy Coney Barrett hearings start, most voters want SCOTUS seat to be filled by election winner: Poll', 'Ai-jen Poo: Trump Flouts COVID-19 Safety Rules with “Utter Disregard” for White House Domestic Staff', 'Iowa tops 100,000 coronavirus cases as Trump plans rally', 'More than 7 million general election ballots cast so far', 'The Rules Be Damned — Trump, at home and abroad, has served as a proponent of lawlessness and disorder.', 'Analysis: Trump takes his Covid misinformation machine back on the road', \"The markets now predict that Donald Trump will lose the US election. Here's how we know\", 'Democratic presidential nominee Biden negative for COVID-19 - campaign', \"In battleground Pennsylvania, meet some of the suburban women who could decide Donald Trump's fate | A wave of disaffected white Republican women could boost Democrats' chances\", 'Georgians are waiting hours to cast their ballots on the 1st day of early voting', \"Friedman calls out Trump's 'voter suppression enterprise'\", 'The rise of Gen Z could foretell the fall of Trumpism', 'Republican dreams of a supermajority in the Wisconsin Legislature fade with Trump', 'Sacramento County warns about common mistakes on mail-in ballots', 'Georgia’s setting records for political spending in 2020', 'Nurse who spoke at 2020 RNC busted for shooting woman after argument', '865,000 women left the workforce last month', '‘Something We’ve Never Seen Any President Do’: Fmr. Top Mueller Lieutenant Expects Trump to Attempt Self-Pardon if He Loses Election', 'Confidential coronavirus outbreak data shows thousands of undisclosed incidents across Illinois', \"Lindsey Graham, reverse ferret: how John McCain's spaniel became Trump's poodle\", \"All eyes on Ohio with Joe Biden's visit to Cincinnati and Toledo\", 'Amy Klobuchar calls Barrett hearing a “sham” as Lindsey Graham defends against “hypocrisy” charges', 'A farmer made a giant Biden-Harris sign out of hay bales. It was set on fire the next day.', 'Though lagging in polls, Trump could pull off a win', 'Twitter Put A \"Misleading\" Warning On Trump\\'s Tweet That He Could Not Get Or Spread COVID-19', \"Trump says he's recovered from COVID-19, Twitter flags his claim of immunity\", 'QAnon Is Thriving in Germany. The Extreme Right Is Delighted.', 'People in the GOP, White House, and Trump campaign increasingly think they will lose the White House and maybe the Senate too, reports say', 'Trump and Biden are neck-and-neck in North Carolina. Will Latinos decide the race?', \"Massive Lines in Georgia on First Day of In-Person Voting Exemplify Ongoing 'Voter Suppression,' Say Critics\", 'Trump asks campaign to schedule daily events for him until election', 'How political campaigns use your data in elections', 'Senate Democrats Accuse Amy Coney Barrett of Hiding Key Details About Pro-Life Views, Hospital Bankruptcy Case', 'Senate hearing begins for Supreme Court nominee Barrett', \"Federal Judge Upholds Minnesota's Deadline Extension For Counting Ballots\", 'South Carolina Senate Challenger Jamie Harrison Breaks Fundraising Record With $57 Million Haul', 'Fauci says Trump campaign ad twists his words on COVID-19', 'Judge Blocks Trump Campaign Attempt To Limit Use Of Drop Boxes In Pennsylvania', 'Donor accuses Texas AG Ken Paxton’s office of mishandling complaint that led to staff mutiny', 'Eric Trump may not *get* the whole Covid-19 vaccine thing', 'Trump campaign twists Fauci comment to suggest praise of the president', 'Unofficial Ballot Drop Box Appears In Front Of Baptist Church In Canyon Country', 'Sullivan and Gross battled it out on fisheries, Pebble Mine and Outside money in debut U.S. Senate debate', \"Michigan House GOP won't back Republican candidate after Whitmer plot comment\", \"Fauci says comments in Trump ad taken 'out of context' and used 'without my permission'\", 'Where Court Packing Is Already Happening', 'Is it too late for Trump to turn things around?', 'Mark Meadows Refuses to Speak to Reporters With Mask On, Runs Off', 'Washington tribes find new energy to vote in 2020 election, pour campaign cash into races', 'US sees highest number of daily coronavirus cases since August', 'Editorial: We recommend MJ Hegar for US Senate', 'Covid-19 survivors set up 20,000 empty chairs near the White House to remember the more than 200,000 coronavirus victims', \"What Amy Coney Barrett's likely confirmation means for America\", 'Biden visit Monday caps push into Ohio, once a longshot', \"Bernie Sanders: Our healthcare system is 'dysfunctional, cruel and wasteful’\", 'On November 3, Vote to End Attacks on Science', 'Pelosi calls Trump administration policies on testing and tracing inadequate', 'This is the future of abortion in a post-Roe America: The fall of Roe v. Wade won’t end abortion. Here’s what it will do.', 'Did Trump’s \"Liberate Michigan\" Tweet Inspire Militia Plot Against Gov. Whitmer?', 'Fake “official” drop boxes set up by California GOP may be in “violation of state law”: official', \"Donald Trump Did Not Win This Year's Nobel Peace Prize\", 'Joe Biden for president', 'Trump ready for 1st rally since contracting coronavirus', 'Foreign Correspondent: Rightwing Populism Will Make You Sick—Really: The world’s worst outbreaks are occurring in nations with authoritarian leaders, like Trump.', 'Can the GOP ever redeem itself?', 'The US is in the grips of a leadership crisis', 'The Senate Judiciary Hearings Could Be Amy Coney Barrett’s Second Superspreader Event', 'Trump—Gun in His Hand and a Bloody Shirt—Standing on Fifth Avenue', 'Why early voting matters more than ever in Georgia', '‘Green tsunami’: Inside Senate Republicans’ financial freak-out', 'Ted Cruz Uses SCOTUS Hearing to Lie About Obamacare (Again)', 'Maryland’s Hogan joins New England GOP govs. in not signing Barrett letter', \"Durbin: Republicans have been 'packing the court for the past three and a half years, and they brag about it'\", 'Trump is in debt. We can’t ignore the national security risks that come with that.', 'Heavy turnout and glitches mark start of early voting in Georgia', 'White House Asks Congress to Approve Three Arms Sales to Taiwan, Sources Say', 'Lincoln Project Mocks Trump With Fake Retro Ad Pushing Covid Drug | The 11th Hour | MSNBC', 'Barr Violated Election Law, Ethics Groups Say in Call to Impeach', 'COVID-19 coverage safety net has plenty of holes in US', \"Pritzker Offers Trump 5 ‘Exciting Places to Go' in Illinois After President's Tweet\", \"Trump's Willful Ignorance of Science Is Killing Us\", 'Supreme Court nominee Barrett faces Senate despite virus', 'Please. Just make Trump stop.', 'Trump tests negative for the coronavirus on consecutive days, White House doctor says', 'GOP senator attends Barrett hearings in person after COVID-19 diagnosis', 'Totally Under Control Unearths the Root of Trump’s Coronavirus Failures', '\\'Appalling Criminal Conduct\\': California GOP Accused of Operating Fake \\'Official\\' Ballot Drop Boxes | \"Apparently they\\'re trying to prove voter fraud is real by committing actual election fraud.\"', 'The Crowded, Competitive World of Anti-Trump G.O.P. Groups', 'Confirmation hearing for Amy Coney Barrett begins in Senate', 'Biden looking good - but concern over polls mean Democrats are cautious', \"Opinion: Amy Coney Barrett's truly scary association\", 'Biden campaign enlists Black mayors in get-out-the-vote ad push', \"Trump's Covid advisor spotted maskless at 2,000-strong rally on White House lawn\", 'What Wisconsin Democrats Learned from 2016', 'Trump kicks off the week by listing states that ‘are going to hell’ -- unless you vote for him', 'Kamala Harris to attend SCOTUS confirmation hearings virtually', 'Joe Biden shares heartfelt message of LGBT+ solidarity: ‘Know you are loved and accepted, and I’ll fight every day for you’', 'U.S. TV news networks aim for credibility, not speed, on election night', \"Fact check: Yes, Joe Biden took a knee in Miami. No, it wasn't during the national anthem\", \"I'm Pennsylvania's Attorney General and I'm in court shutting down Donald Trump's attempts to undermine our elections. AMA.\", 'Majority says wait on the SCOTUS seat; 6 in 10 favor upholding Roe: POLL', 'In op-ed, Michigan Governor Gretchen Whitmer says President Trump legitimizes actions of domestic terrorists, vows to hold him accountable', 'Sacha Baron Cohen joins Twitter as Borat to mock Trump', \"The candidates don't get it: from the pandemic to the economy, the real problem is capitalism itself | Trump and Pence accuse the Democrats of being too left-wing. In truth, they aren't left-wing enough\", 'US advances three arms sales packages to Taiwan', \"Peters slightly stretches lead over James in Michigan's U.S. Senate race\", \"Mass. farm's display supporting Biden, Harris goes up in flames\", 'Lindsey Graham’s Desperation Is Getting Deadly: Graham is risking his Senate seat and public health by refusing to take a Covid test before SCOTUS hearings. His GOP colleagues could stop him, but they won’t.', 'Lincoln Project Co-founders Reveal The Secret To Pissing Off Trump The president’s conservative critics also point out the key benefit to triggering him.', 'Trump’s Virus Treatment Revives Questions About Unchecked Nuclear Authority', 'Lindsey Graham challenger Jaime Harrison sets historic Senate fundraising record of $57 million in last quarter', 'Fauci’s anger at Trump is more damning than it first appeared', 'Biden supporters flock from other states to door-knock in Arizona, where it matters', \"Anti-police 'satanist' runs for sheriff as Republican in NH\", 'Fauci says Trump campaign should take down ad featuring him', 'GOP US. Rep. Bost of Illinois tests positive for COVID-19', 'What Are The Possible Side Effects Of Trump’s Covid-19 Treatment?', 'Michigan Gov. Gretchen Whitmer to sign bill wiping away certain criminal records', 'White House pivots again on stimulus negotiations after bipartisan backlash - The Washington Post', 'Our president and my church: An evangelical Christian on the president’s damage to his faith community', \"As hearings begin, a 'power grab without principle' comes into view - A fundamental question hangs overhead: is there a coherent defense for launching a Supreme Court confirmation process right now?\", 'The Sedition of Donald Trump', 'California GOP installed unofficial ballot drop-off boxes. State officials say they’re illegal.', 'Mary Trump: My Uncle Is Responsible for 210,000 Deaths and Is Now “Willfully Getting People Sick”', \"GOP Senator Asks if Judge Barrett Is 'on a Mission From God' to End Obamacare\", \"'I'm worried about everything.' Fearing their votes won't count, Arizonans rush to cast ballots early\", '2020 election to near $11 billion in total spending, smashing records', 'Texas tries again to block counties from having multiple ballot drop-off locations', 'Joe Biden Leads Donald Trump By 8.5 Points: IBD/TIPP 2020 Presidential Election Tracking Poll', 'When does party loyalty demand too much? Fellow Republicans, we are there. Former GOP congressmen Alan Steelman and Steve Bartlett encourage Republicans to vote for Biden.', 'Biden Leads Trump by 17-Points Over Handling of COVID-19 Pandemic', 'Biden blasts Trump, GOP for prioritizing court', 'Trump trailing in Michigan, Pennsylvania and Wisconsin: poll', 'Cuomo brushes off AG speculation but says he’ll help Biden ‘any way I can’', 'Top US General Says No Role for Military in Determining Outcome of US Election', 'October 2020 Metathread', 'Delaware Man Charged For Plotting To Kidnap Michigan Governor Pardoned By Gov. Carney Last Year', 'Ohio officials: Some ballots reported incorrect may be right', 'Supreme Court nominee Barrett faces Senate despite virus and overwhelming support to wait until after election.', 'Samuel L. Jackson takes on voter suppression in new Biden campaign ad', 'Unofficial ballot boxes discovered at Calif. gun shops, churches, Republican offices', 'Kamala Harris Should Grill Amy Coney Barrett — Senate Democrats would be wise to let Joe Biden’s running mate lead their questioning at the nominee’s confirmation hearing.', \"Will Van Drew's pledge to Trump be his undoing? Kennedy is banking heavily on it | Stile\", 'Trump claims he no longer has COVID-19 as White House dodges questions on whether he has tested negative', 'Noam Chomsky: Trump Is Willing to Dismantle Democracy to Hold On to Power', 'President Trump can’t use $3.6 billion in military funds for border wall construction, federal court rules', \"Schools are 2 months into reopening under Covid-19 and no one's officially keeping track of how it's going\", 'Flood of Democratic Mail-In Votes Swamp Republicans In Key State Early Balloting; The 2020 election is the first in which Democrats are returning pre-Election Day ballots at a higher rate than Republicans.', \"Biden says Barrett's Catholic faith shouldn't be factor in her confirmation hearings\", 'Trump is campaigning again but hundreds of thousands of Americans have already voted', 'The great crackup: Before our eyes, Trump is becoming even more unstable', 'Kamala Harris Just Slammed the Senate GOP for “Reckless” Endangerment of Capitol Staff', \"Factbox: Notable legal opinions of Trump's Supreme Court nominee Barrett\", 'The Oligarchs’ Revenge', \"The president's actions are as dangerous as his words\", \"Cuomo on talk of spot in Biden Cabinet: 'I have no interest in going to Washington'\", \"Dr. Anthony Fauci, top infectious disease expert, says he was featured in Trump campaign ad without his consent and his words were ‘taken out of context'\", \"Pendley says court decision ousting him from BLM has had 'no impact'\", \"'Put these animals in jail': Trump condemns protestors in Portland and continues his 'law and order' campaign rhetoric\", 'Twitter flags Trump tweet for violating its rules on COVID-19 information', 'Biden is best for Long Island on ...', \"Fauci calls on Trump campaign to take down ad taking his words 'completely out of context'\", \"Juan Williams: Trump's plan to thwart democracy\", 'The alleged plot in Michigan isn’t an anomaly. The domestic terrorism threat is rising.', 'Wisconsin denies Foxconn tax subsidies after contract negotiations fail | Foxconn isn’t building what it promised and failed to hire enough people', \"Trump's troubles weighing on Iowa Senate race as Joni Ernst fights for reelection\", \"California election officials say GOP's unofficial ballot drop boxes are prohibited\", 'California investigates unauthorized ballot boxes installed by Republicans', \"Kudlow: Mnuchin 'may' boost stimulus offer following Trump comments\", 'A slim majority of voters oppose Barrett hearings, though a consistent majority support high court upholding Roe v. Wade, Post-ABC poll finds', 'White House Refuses to Say if Trump Still Contagious Before First Event Since Diagnosis', 'Federal judge rules First Amendment doesn’t protect Connecticut man arrested with sign warning of ‘Cops Ahead’', '‘The data speaks for itself’: Fauci raises alarms about Trump’s planned blitz of campaign rallies', 'President Trump is benefiting from single-payer, single-provider health care. We all should', 'Feinstein wants to derail Amy Coney Barrett’s confirmation. Here’s what she can do', \"Republicans aren't being honest about why Amy Coney Barrett has their support. They can't be. | The rulings they hope — and fully expect — Trump's Supreme Court nominee to make are so unpopular they have to pretend they don't know she'll make them.\", \"Schumer: Trump's Supreme Court nominee should recuse from ObamaCare, election cases\", 'Charles Koch’s Big Bet on Barrett', 'Borat Just Joined Twitter And Is Already Trolling The Wawaweewa Out Of Trump', 'Trump team pushes to reschedule in-person debate after Trump declines virtual format', \"Snoop Dogg partners with Democrats to promote ballot drop boxes: 'Drop it in the box'\", \"Inside the Lincoln Project's campaign against President Trump\", 'California GOP admits to installing ballot drop boxes deemed illegal by election officials', 'Fauci says it would be \"outrageous\" if Trump campaign used him in another ad', \"Trump less trusted across advanced economies than China's President Xi\", 'Tommy Tuberville’s Financial Fumbles', 'Banner flies over VP speech to Florida retirement community: ‘Pence is why you can’t see your grandkids’', 'More Than 5,000 Lawyers Sign Letter Opposing Amy Coney Barrett’s SCOTUS Nomination — It is the largest known lawyer opposition letter to a Supreme Court nominee.', 'The case for Dinétah - Statehood will not fix the problems facing the Navajo Nation but it would do two things: Add a voice in Congress and get more money from Washington', \"Coronavirus: Trump has tested negative for COVID 'on consecutive days', his doctor says\", 'Trump wants to hit campaign trail every day through election', 'Trump is making the 2020 election a recipe for chaos. How Philly is preparing.', \"Kamala Harris faces sexism and racism as online commenters label her 'Black Hillary'\", 'Long Lines, Technical Problems Hit Georgia on First Day of Early Voting', 'At least 9 cases of Covid-19 traced to Trump rally in Minnesota', 'The Democrat seeking to unseat Lindsey Graham just smashed fundraising records.', \"Biden, J. Lo, Angelica Ross Headline Revry's QueerX Live! Awards — The ceremony will be held Sunday in honor of Coming Out Day.\", \"Big Oil drives Trump's pandemic response\", 'Elizabeth Warren urges voters to oust Republicans in ‘life and death’ election — Stumping for Joe Biden Saturday, the Massachusetts Democrat asked Mainers to hold Donald Trump and Susan Collins accountable.', 'Blumenthal urges Barrett to recuse from cases involving election', 'Photoshop failure: Upstate N.Y. Republican Senate candidate adds fake cops into campaign mailer', 'Facebook bans Holocaust denial content', 'Trump’s Tax Wizardry is Even More Sophisticated Than You Thought', 'Ousted Trump Administration Agency Head Insists ‘I Have Not Been Ousted’', 'Georgia marred by technical problems, long lines on first day of early voting', \"Trump's properties made $238,000 on Secret Service bills from Ivanka, Eric, and Donald Jr.'s visits\", \"Eric Trump says his father 'has lost a fortune' running for president in response to NYT reports on Trump's taxes\", \"CNN's Jake Tapper, Biden campaign aide spar over whether Barrett confirmation would be constitutional\", 'Trump Is The Most Crooked President in American History. That Should Matter.', 'Democrats Are Making the Amy Coney Barrett Hearings All About Healthcare', 'Beshear to quarantine after guard tests positive for COVID', 'As Trump refuses to say he’ll accept election results, Republicans press to make voting harder', 'Police killings more likely in agencies that get military gear, data shows', 'How Many Republican Senators Have COVID19? They Won’t Say.', '‘I didn’t know he was there’: Pence says he wasn’t bugged by debate fly', \"Could Atlanta Hawks' State Farm Arena swing the presidential race?\", 'Jaime Harrison breaks record for biggest fundraising quarter by any Senate candidate ever', 'Democrats Have a Massive To-Do List If Joe Biden Wins', \"'As a lawyer, I was very concerned and alarmed... as a mom and as a gay woman in America, I'm terrified': LGBTQ couples fear losing rights to a conservative majority SCOTUS\", \"'He just thinks about himself': America's reckless, ill president Donald Trump\", 'Millions of American Latinos have a complicated relationship with Christopher Columbus', 'D.C. reports increased demand for coronavirus tests amid White House outbreak', \"Trump campaign official blames Biden lead on 'skewed' polls\", \"Kamala Harris says it's 'reckless' to hold Supreme Court hearing during pandemic\", 'Trump steel tariffs bring job losses to swing state Michigan', 'Get Ready to Resist the Trump Coup Attempt', 'Black Lives Matter launches a political action committee', 'Susan Collins struggles to change the subject from Brett Kavanaugh in Maine Senate race', \"Fauci rips new Trump campaign ad, says it uses his comments 'out of context'\", 'New Documents Reveal How the Animal Agriculture Industry Surveils and Punishes Critics', 'Biden: Dire situation for nation right now', 'Powered by trust on the pandemic, Biden leads by 12 points nationwide: POLL', \"Lindsey Graham's senate challenger raises record $57m in Q3 alone\", 'How women are historically against Trump', 'As movement grows to reduce police involvement in mental health crisis calls, Virginia legislators try to figure out a statewide model', 'Trump is back on the trail, but he still can’t shake the coronavirus politically', 'ActBlue raises $3.8B for over 21,000 Democratic candidates, committees & organizations — Chris Jansing brings the latest about ActBlue, a platform which has been \"a game changer, up and down the ballot.\"', 'Here’s How Trumpworld Is Rallying Behind COVID-Infected POTUS Return To Campaign Trail', \"'A moment to put country above party': Biden makes appeal to disaffected Republican and independent voters\", \"Amy Coney Barrett: What's at stake in Supreme Court fight\", 'Tanzania intensivies repression ahead of polls. Sound familiar?', 'Sacha Baron Cohen joins Twitter as Borat, criticizes Trump’s coronavirus response', 'Republicans try to squeeze last electoral juice out of Supreme Court fight', 'Biden leads Trump by 12 points nationally, president trails on pandemic trust in new poll', 'Dr. Fauci: It Would Be ‘Terrible’ and ‘Outrageous’ if Trump Campaign Uses Me in Another Ad | “I hope they don’t do that,” the public health expert continued. “That would be kind of playing a game that we don’t want to play.”', 'Destroying Obamacare would destroy lives', 'A warning sign for Trump: Florida seniors in a pro-Biden golf cart caravan', 'Jaime Harrison sets Senate fundraising record with $57 million haul in South Carolina Senate race', \"Eric Trump claims family 'lost a fortune' in pushback of pay-for-play report\", 'GOP Senator Diagnosed With COVID-19 Attends Barrett Hearing Sans Mask', 'The Truth About Voter Fraud', 'How Hatred Came To Dominate American Politics', \"Fauci Says He Didn't Consent To Trump Ad That Takes His Words Out Of Context\", 'Kansas Democratic Senate Candidate Breaks Fundraising Record, Holds 3-Point Poll Lead Over GOP Opponent', 'Amy Coney Barrett winning Supreme Court seat would ‘be the final puzzle piece’ in overturning marriage equality, lawyers warn', 'GOP Senator Says Mentioning SCOTUS Griswold Decision Is Anti-Catholic Dog-Whistle. Another GOP Senator Asked Barrett About It 3 Years Ago.', 'Once-dominant Republicans fret Arizona is slipping into blue column', 'How California expats are helping turn Texas into a battleground state', 'Trump signs executive order to fast-track federal mining permits | Duluth News Tribune', 'How to think about Trump’s chances of winning reelection', \"Gov. Whitmer says she has 'always felt safe' but doubles down on charges that extremists are 'finding comfort' in Republican rhetoric\", \"Trump's Hail Mary passes won't get him in the end zone\", 'Eric Trump’s Spin On His Dad’s Debate Refusal Has People Scratching Their Heads', \"Joe Biden given 8.5-point lead from pollsters that predicted Trump's 2016 win\", 'Trump didn’t want to do a ‘glorified conference call,’ Eric Trump says of canceled debate', '13 men charged in alleged kidnapping plot, many with troubled pasts', \"Tom Cotton Won't Debate His Libertarian Challenger. The Event Will Happen Anyway.\", 'Amy Coney Barrett supreme court hearing sets stage for partisan clash', 'Jamaicans in Florida energized by Harris on 2020 ticket', 'All of Trump’s false claims over the weekend from coronavirus to the economy: ‘I’m immune’', 'Democrats focus on future of Affordable Care Act, 22 arrested in outside protests', 'Barrett was member of anti-abortion group that promoted clinic criticized for misleading women | Amy Coney Barrett', 'Protesters Block Entrance of Senate Building as First Barrett Confirmation Hearing Begins', \"Senate Republicans Join Pelosi in Opposing Trump Administration's $1.8 Trillion Stimulus Offer\", \"Whitmer says Michigan votes will not be announced by an 'artificial deadline set by people with political agendas'\", 'If the Supreme Court Ends Obamacare, Here’s What It Would Mean', 'Trump reportedly wanted to rip open his button-down to reveal a Superman T-shirt to surprise people when he left the hospital', 'Over 500 LGBTQ candidates to appear on November ballots, shattering records', 'Pete Buttigieg shreds Amy Coney Barrett’s opening statement for Supreme Court nomination', 'Activists Urge Sen. Feinstein To Take Actions To Stop Supreme Court Confirmation Hearings', '‘He just thinks about himself’: America’s reckless, ill president', 'Fauci says Trump campaign ad took his comments out of context', 'Analysis | New research explores authoritarian mind-set of Trump’s core supporters', 'Parties Offer Divergent Portraits of Barrett as Senate Opens Hearings', 'Trump Has Brought Muslims and Jews Together—to Defeat Him', 'Trump border wall funding plan illegal and construction must stop, court rules', 'Judge Amy Coney Barrett\\'s Senate confirmation hearings for Supreme Court begin Monday — Democrats expressed concern the sessions could become a coronavirus \"superspreader\" event.', 'Biden, Trump step up appeals to Colombian American voters', 'Lifelong Republican, 94, pledges to vote Biden to protect the LGBT+ community after gay grandson’s emotional appeal', 'At the Vice Presidential Debate, Mike Pence Talked a Lot for Someone With Almost Nothing to Say', 'Fact check: Did the KKK and Taliban endorse Donald Trump?', 'Biden harnesses history to describe urgency of 2020 campaign', 'Whitmer expected to sign ‘Clean Slate’ bill', \"John McCain's mother, Roberta, dies at 108\", \"Trump Is Planning a Rally at the White House Saturday and People Are Already Calling It “Covchella” — It's his first in-person rally since his Covid diagnosis.\", \"Democrats steer clear of Barrett's religion during Supreme Court hearing\", 'California kept prison factories open. Inmates worked for pennies an hour as COVID-19 spread', \"'Trump doesn't stop at red lights:' A warning to voters and the media\", 'Taliban supports Trump reelection', 'Pennsylvania needs Joe Biden | From COVID-19 to the environment to racial justice, Donald Trump has failed. Joe Biden and Kamala Harris can set us on a new course. The stakes for Pennsylvanians could not be higher.', 'Twitter unveils new efforts to stem election misinformation: The company also will not let a candidate claim victory before it is called.', 'Democratic presidential nominee Biden tests negative for COVID-19', 'Trump reportedly wants to ink nuclear deal with Russia before election', 'GOP governors in spiking states strain for silver linings', 'California GOP accused of setting up fake official ballot drop-off boxes across state', 'Trump tells Fox News he is ‘immune’ to Covid-19, 10 days after diagnosis', 'Donald Trump’s Consistent Unreliability on COVID, and Everything Else', 'Trump Didn’t Save Coal or Steel. To Be Fair, No One Could.', \"'He’s let you down': Biden hits Trump on trade, economy in Ohio speech\", 'Anthony Fauci criticises Donald Trump for using his words out of context', 'Federal Agents Used Toxic Chemical Smoke Grenades in Portland', \"Harris: Republicans 'Defying Will Of The People' By Pushing Barrett Nomination\", '‘I fell for what Trump was saying’: Workers sound off on virus, uncertainty about economic aid', 'Coronavirus surging in Upper Midwest, Plains states', 'Amy Coney Barrett’s Judicial Neutrality Is a Political Fiction', 'President Franklin Delano Roosevelt created Social Security in 1935. Today, his grandson is fighting to save it', 'Message from an Israeli Jew: Please don’t re-elect Trump', \"Amy Coney Barrett's political views, from abortion to gay marriage\", 'Donald Trump’s Campaign Rallies Are Now Confirmed Public-Health Hazards', 'Biden maintains 12-point national lead: poll', 'Why The Supreme Court’s Reputation Is At Stake', 'GOP Sen. Mike Lee speaks without mask at Barrett hearing despite positive COVID-19 test', \"Twitter flags Trump's false claim about his Covid-19 immunity. Facebook, however, does nothing\", 'Ilhan Omar says Republicans would \"lose their mind\" if Muslim woman were nominated to SCOTUS', 'Biden makes big push in Ohio, once seen as long shot for him', 'Conservative PAC draws charges of racism in Missouri', 'Trump administration loses fight to stop child born abroad to gay couple from becoming US citizen', 'The GOP is lying its way toward expanding the Supreme Court’s conservative majority', \"Pride in America cannot only be certain brand of white man's pride or else it's a lie — The demand that we be proud to be American has long served as a weapon, even when the vision of what we should be proud of has been solely white.\", \"Trump's new pitch to voters: Blue states are 'going to hell'\", \"Women in Handmaid's Tale habits protest ahead of Barrett confirmation hearings\", \"Despite Trump's 'Jobs, Jobs, Jobs' Bluster, the Rust Belt Is Still Reeling from Plant Closures\", 'In open letter, more than 5,000 lawyers oppose Barrett Supreme Court nomination', \"‘Undecided’ voters give decision-making a bad name. They shouldn't be center stage.\", 'Several GOP State Legislators Up for Reelection Have Nice Words for the KKK', 'Bill Gates: Don’t call Trump’s coronavirus antibodies treatment a ‘cure’', 'Jaime Harrison raised record-breaking $57 million in third quarter, campaign says', \"Why Republicans and Democrats are asking about Amy Coney Barrett's faith\", \"Judge denies GOP effort to end Tony Evers' mask mandate, upholding governor's ability to issue health orders\", 'Fauci pushes back on use of comments in Trump campaign ad on coronavirus response', 'Whitmer: Domestic terrorists find ‘comfort and support’ in Republican state leadership', \"Poll: Supreme Court process more important in NC's Senate race than Cunningham's affair\", 'Trump’s ‘Miracle Cure’ for Covid Is a Logistical Nightmare', 'Inside the plot to kidnap Gov. Whitmer', \"Donald Trump's troubling vital signs\", 'Unofficial ballot drop boxes found in three California counties', \"Put Trump's Tweets on a Time Delay\", 'Trump slight against Gold Star families adds to military woes', \"McCaskill praises Democrats' focus on 'hypocrisy and health care' at confirmation hearings\", 'Facebook Sees Twice as Much Fake News as 2016: Campaign Update', \"'I’m not going to sit on the sidelines': Mostly white group marches in honor of Breonna Taylor\", \"What Justice Ginsburg's death means for Obamacare\", 'Amy Coney Barrett’s hearing is a disgusting spectacle of GOP dishonesty', 'Trump is only polling ahead in 1 battleground state', 'Discussion Thread: 2020 General Election Daily Updates (October 11th)', 'We Know Exactly How Amy Coney Barrett Will Unravel Roe', 'Courts ‘Not Designed to Solve Every Problem or Right Every Wrong,’ Says Supreme Court Nominee Barrett', 'How Biden could end 2020 on election night — and why Trump’s path is unlikely', \"Amy Klobuchar rips hearings for Supreme Court nominee Amy Coney Barrett as a 'sham' and urges Americans to call their senators\", \"LeBron James' voting organization kicks off new campaign with soccer stars\", 'Barrett was member of anti-abortion group that promoted clinic criticized for misleading women', 'Older voters helped put Trump in office; they will help take him out', 'Tennessee mayor Lonnie Norman dies of Covid-19', 'Mayor Bill de Blasio demands ICE agents stop pretending to be NYPD police: letter', \"Biden says 'chicanery' at polls is the only way he could lose U.S. election\", \"Republicans broke Florida's unemployment system. Could it cost Trump the election?\", \"DeJoy donated nearly $700,000 to Trump's convention, new filings show\", \"Fauci says he didn't give permission to be used in Trump campaign ad\", 'Appeals court reinstates Texas limit on ballot drop-off locations', \"Court Upholds Evers Administration's Statewide Mask Mandate\", 'Watch live: Biden delivers remarks on the economy in Ohio', 'What the Church of Trump is costing America', 'Democrats Prepare Last-Ditch Effort To Derail Trump’s Supreme Court Nominee', 'Trump campaign cancels almost $7 million worth of TV ads in 3 midwest states', 'Democrats Condemn GOP Rush To Seat Amy Coney Barrett As ‘Court Packing’', 'Jaime Harrison smashes Senate fundraising record in race with Lindsay Graham', \"The UK is telling ministers to cozy up to the Biden camp, as Boris Johnson is 'writing off Trump' in the upcoming US election\", 'The US should expect 20,000 more coronavirus deaths by the end of the month, former CDC director says', 'Fauci criticizes inclusion in Trump campaign ad', 'Democratic ballots more than double Republican ballots during early voting', 'Jaime Harrison shatters Senate fundraising record for South Carolina race', 'Trump claims he got COVID from Gold Star event. Evidence shows he likely was already sick by then', 'Joe Biden tests negative for coronavirus sixth time since debate', '‘We’re going to lead this’: a call for Black women in Florida to claim their political power: Amid protests and the coronavirus pandemic, Black women are rallying voters to demand ‘a seat at the table’', 'Goldman Sachs: A Democratic sweep would mean faster economic recovery', 'A former Republican could win the Kansas Senate race for the Democrats', 'Supreme Court nominee Barrett faces Senate', \"Irish locals show their colours in Biden's ancestral home\", 'Poll: Biden builds big leads in Wisconsin, Michigan', 'As Early Voting Begins in Georgia, Videos Show Hundreds Standing in Long Lines', 'Gov. Whitmer signs expungement expansion legislation', 'VERIFY: Does VP Pence meet residency requirements to vote in Indiana?', 'What Dr Fauci actually said versus how Trump used clip in campaign ad – video', \"Buzz grows around Cuomo as Biden's attorney general pick\", 'I Created Veep and Even I Couldn’t Make the Last Week Up', \"Antiabortion groups say they stand behind Trump's use of a drug tested on cells derived from an aborted fetus because the president 'was not involved with that abortion'\", \"Fake 'progressive' mailers urge yes on Uber/Lyft's Prop. 22\", \"Divided senators open Amy Coney Barrett confirmation hearings with focus on health care: 'This is probably not about persuading each other'\", 'North Dakota farmer goes viral for Biden Harris message plowed into field', \"Cindy McCain cuts ad for Biden: 'A president who will honor our fallen heroes'\", 'Analysis: Donald Trump just keeps driving in the wrong direction', \"Amy Coney Barrett will face public hearings this week as Donald Trump's supreme court SCOTUS nominee. Here's what we might expect\", 'Minnesota’s 0.000004% Voter Fraud Cited as GOP Suit Tossed', 'Cory Booker Finally States the Obvious at Barrett Hearing: “This Is Not Normal”', 'With Amy Coney Barrett on the Supreme Court, could marriage equality be in jeopardy? The odds are against SCOTUS outright overturning marriage equality - but the conservative majority will do everything in its power to erode it by granting religious conservatives free rein to ignore the law.', 'Judges Aren’t Buying Trump’s Claims That Mail-In Voting Causes Widespread Voter Fraud', 'Ohio county says nearly 50,000 voters received wrong ballots', 'Donald Trump Took Advantage of the US’s Legalized Corruption', 'Trump’s children brought Secret Service money to the family business with their visits, records show', 'Biden Allies Ponder: Skip Debate or Let Trump Blow Himself Up Again? — “If Trump is going to take his football and go home, I say good riddance to bad rubbish,” said one longtime Biden confidant', 'Mark Meadows: Trump’s chief of staff refuses to wear mask for reporters', \"The Pentagon has funneled $7.4 billion in surplus military gear to police forces that don't want or need it\", \"Eric Trump on new NYT analysis of father's taxes: 'My father has lost a fortune'\", 'Teen climate change activist Greta Thunberg endorses Biden', 'Twitter flags Trump for claiming he’s immune to coronavirus', 'Michigan Senator Gary Peters Shares His Abortion Story | He’s the first sitting senator in history to do so.', 'Post endorses: For the sake of our now fragile democracy, Biden for president', 'Post-ABC poll: Biden maintains lead nationally over Trump', 'Undecideds | Why are people turning on Trump in 2020?', 'Microsoft disrupts Russian criminal botnet it fears could seek to sow confusion in the Presidential Election', 'California Republicans Have Installed Fake Ballot Boxes at Churches, Gyms, and Gun Stores - These boxes are not official ballot drop boxes, and those actively promoting them could face criminal charges.', 'Asian voters turn to Biden at SW Houston event', 'Baker, Sununu do not sign GOP governors’ letter supporting Coney Barrett nomination to Supreme Court', 'In Biden ad, Cindy McCain says president should \"bring out the best in us, not the worst\"', \"Pelosi rejects latest White House stimulus offer as 'wholly insufficient'\", \"Fox News Host Says GOP Senator Is 'Disingenuous' About Why He Supports Amy Coney Barrett's Nomination\", \"What Happened With Merrick Garland? What McConnell, Trump and Others Said and Did During Obama's Nomination\", 'Regeneron executives sold more than $1m in stock after Trump praised Covid ‘cure’', 'Kamala Harris rips Senate GOP for holding indoor hearing', 'A Justice Barrett must recuse herself from deciding the future of the president who picked her', 'Denver protest death: Demonstrator shot during rival rallies', 'There Will Be No Trump Coup. A final pre-election case for understanding the president as a noisy weakling, not a budding autocrat.', \"Kudlow says Trump rallies follow CDC rules. They don't\", 'Joe Biden Has Answered the Question', 'Democrat Harrison smashes Senate fundraising record with $57 million haul in South Carolina', 'These states will vote on cannabis legalization in November', 'Trump Adds Cars to List of Guns and Other Things Biden Will Take Away if Elected', 'Protesters arrested in D.C. on first day of Barrett’s Supreme Court confirmation hearings', '“I Can’t Vote For Someone Who I Blame For The Death Of My Husband”: Meet The Coronavirus Widows', 'Another casualty of the coronavirus pandemic: Trust in science', 'White House Embraces Herd Immunity in Latest Push to End COVID-19 Lockdowns', 'The Covid-19 pandemic has claimed far more lives than reported, study says', \"Coronavirus: Trump claims to be 'immune' and says he has 'protective glow'\", \"Des Moines mayor says he's worried about coronavirus spread at Trump rally\", \"Sen. Elizabeth Warren Cheered Every Time Kamala Harris Told Mike Pence 'I'm Still Speaking'\", \"Regeneron CEO: Trump's success with antibody cocktail is not evidence of cure\", \"Bill Gates on Trump virus treatment: The word 'cure' is inappropriate because it won't work for everyone\", 'The All-American Mind of a Militia Member', '‘A Dear Leader approach’: Trump’s critics compare his shows of strength around coronavirus to authoritarian tactics', 'Democrat in South Carolina US Senate race raises record $57m', 'Fauci says his remarks were taken out of context in Trump ad', 'Stimulus talks are at an impasse as Senate Republicans object to White House package', 'Biden is ahead. Democrats are still stressed', 'Anti-police ‘satanist’ runs for sheriff as Republican in NH', 'To win reelection, Trump would now have to sweep five toss-up states, plus a “lean Democratic” state like Wisconsin or Pennsylvania.', 'Native populations could be decisive this election — as long as they can vote', \"Trump on 'Day of Rage' protests in Portland: 'Put these animals in jail, now'\", 'GOP governors offer upbeat views in states with spiking coronavirus cases', \"These states are ditching Columbus Day to observe Indigenous Peoples' Day instead\", \"Trump appears to threaten aliens with 'military the likes of which we've never had before'\", \"Biden 'wants to debate Donald Trump again': National campaign co-chair\", 'Ireland Is on the Ballot in Pennsylvania: Threats to the Good Friday Agreement—and culture wars—make this a critical constituency in a swing state.', \"Wife of Pennsylvania's Lt. Governor called racist slur at grocery store\", \"'This election is everything': College students push schools to cancel classes on Election Day\", 'Wife of Pennsylvania’s Lieutenant Governor Is Target of Racial Slur', \"A Trump campaign ad features Fauci praising the president's coronavirus response but uses his words out of context\", \"Don't trust presidential polls that show huge leads for Joe Biden. The race isn't over.\", 'Trump bashes New York, Illinois, California in plea for votes', 'How Team Trump used Fox News as a laundromat for unverified Russian information about top Democrats', 'Biden and Trump court Minnesota Catholic vote', 'Private Prisons Have Spent More on This Election Than Any Other in History - Most of the money’s going to Republican candidates.', 'Confused Eric Trump Says Dad Is Getting Cured by His Own ‘Vaccine’', \"The Martyrdom of Donald Trump - Pandemic be damned, the president intends to see out the conservative mission of cutting out America's democratic heart.\", 'America wants to put the brakes on Judge Amy Coney Barrett’s nomination. Senate leadership should listen.', 'Fauci Blasts New Trump Ad, Says It Takes His Comments “Out of Context”', 'Denver to stream live 24-hour video of ballot processing', 'Merrick Garland was historically snubbed — but he’s emerged more respected than ever', \"I Lost My Mother to COVID-19. Don't Let Anyone Tell You It's Not Something to Fear\", 'At least 9 cases of COVID-19 traced to Trump rally in Minnesota', 'Votes and Vitality in Mind, Trump Heads to Rally in Florida', \"Tom Cotton's Libertarian Challenger Touts New Poll That 'Flips the Table' on Arkansas Senate Race\", 'Ex-FDA chief: Trump \"definitely missed the window\" to mass produce antibody drug', \"William Barr discovers that he is not immune to Trump's wrath\", \"Judges' politics absolutely sway how they decide cases. I crunched the numbers | Zalman Rothschild | Opinion\", 'Fauci Slams Trump Camp For Taking His Words Out Of Context In Ad Without His Consent', 'Trump’s Lifelong Obsession With His Superior DNA Is Being Put to the Test', 'Calls intensify for resignation of Michigan sheriff who shared stage with militia.', 'The Trump Campaign’s Big Plan to Save Itself: More Trump', 'Elections officials ask voters to stop disinfecting mail-in ballots', 'Kidnapping Plot Against Whitmer Becomes Part of Michigan Politics. The F.B.I. and state authorities last week arrested 13 men in connection with a domestic terrorism plot directed against the first-term governor.', 'Democrat Jaime Harrison shatters Senate fundraising record in bid to oust South Carolina Sen. Lindsey Graham', 'Poll: Biden up 8 points in Michigan, 10 points in Wisconsin', 'Democrats To Frame Barrett As Foe Of Affordable Care Act In Confirmation Hearings', 'POLITICO Playbook: Republicans face the prospect of more House losses', 'Democrats in Trump Country: They’re Not Shy Anymore About Liking Biden', 'Manchester mayor dies after ‘valiant fight’ against COVID-19', 'As Arizona, Texas and Georgia become less white, voter suppression could keep these states from turning blue', 'Judges across the country cast doubt on voter fraud claims pushed by Republicans and Trump campaign', 'Kamala Harris, Bernie Sanders Urge Stimulus Bill Focus Over Amy Coney Barrett Hearings', 'It’s His Land. Now a Canadian Company Gets to Take It. | Federal regulators have given a Canadian oil company the power to seize property from Oregon landowners for a gas pipeline that will help … Canada.', \"Op-Ed: Amy Coney Barrett went to my all-girls high school. I hope she's not confirmed.\", 'Trump rips ‘FiveThirtyEight’ pollster for 2020 election prediction', 'As Barrett hearings start, most in poll think RBG seat should be filled after election', 'Poll: Lead among women fuels Biden’s 12-point edge', 'Facebook bans Holocaust denial, distortion posts', 'Dr. Fauci says he was taken out of context in new Trump campaign ad touting coronavirus response', \"Lindsey Graham's challenger in South Carolina Senate race breaks fundraising record\", 'GOP fundraiser Elliott Broidy charged in bid to lobby Trump administration to drop 1MDB case', \"John McCain's mother Roberta dies at 108\", 'Biden Warns of Potential ‘Chicanery’ at Polling Stations', \"Trump claims he is 'immune' from coronavirus, defends federal response\", 'Trump campaign manager returns to office 10 days after positive COVID-19 test', 'Trump campaign will hold a “closeted” LGBTQ Pride rally in Pennsylvania tomorrow - But neither the words \"gay\" nor \"LGBT\" even appears in the announcement.', 'CA GOP’s Unsanctioned Ballot Drop Boxes May Violate Law, Secretary Of State Says', 'Biden says ‘chicanery’ at polls is the only way he could lose to Trump', 'The single biggest lie told in the first day of the Amy Coney Barrett hearing', 'Trump says Covid ‘will run its course’ as US death toll nears 215,000', 'Supersize the Supreme Court to Save It - A new way of thinking about depoliticizing the judiciary', 'Nonpartisan watchdog group raises questions about $40m yacht tied to DeVos family', 'International election observers fret about US vote', \"Trump economic adviser: Senate Republicans will 'go along with' White House stimulus proposal despite their pushback\", \"Sen. Chris Coons says the rush to confirm Trump's SCOTUS nominee 'constitutes court-packing'\", 'Conservative Utah leaders voice support for climate action', \"Key takeaways from the New York Times' investigation into Trump's taxes while in office\", 'Donald Trump, Superspreader-in-Chief, Endangers White House Staff', 'Trump’s Refusal to Commit to a Peaceful Transition Is a Wake Up Call for Civil Servants', 'Far-right militias are ‘energized and prepared to do great harm’ across America, says Michigan AG', 'Zakaria: The pandemic has shown the quality of our government', 'Georgia voters report widespread concerns on first day of early voting', 'The Taliban officially endorse Trump.', 'Trump Campaigns Off Of Vague WH Doctor Memo To Absurdly Claim Immunity', 'Bollier shatters fundraising record in historically expensive Kansas race for Senate', 'Jake Tapper Literally Laughs When Kudlow Says We\\'re Safely Dealing With COVID — \"We are not learning to live with the virus, Larry. We had four days in a row of 50,000 infections and the death rate is the highest in the world.”', 'Technical problems arise as early voting starts in Georgia', 'Kentucky governor to quarantine with family after coronavirus exposure', 'Republicans Have Already Packed the Courts. It’s Up To Democrats How To Rebalance Them.', '‘Dark money’ groups gear up for Supreme Court battle as 2020 election nears', 'Be patient on election night 2020. Counting the returns will take time. | The expected increase in voting-by-mail will pose challenges for how election officials and journalists report the results, and how voters absorb them.', 'California GOP says it owns unofficial ballot drop boxes', \"Trump's Doctor Says There's No 'Actively Replicating Virus' — So Is He COVID-19-Free?\", 'Trump wanted to rip open shirt to show Superman t-shirt when leaving Walter Reed: report', 'Biden and Democrats outspending Trump and GOP by $85 million on ads in final weeks', \"Watch Pete Buttigieg Dismantle Amy Coney Barrett's Opening Statement\", 'North Korea’s monstrous new missile is a reminder of Trump’s failure to contain the regime', 'WH Chief Meadows Throws Tantrum, Walks Away After Reporter Asks Him To Wear A Mask', 'Opinion | How sexist, racist attacks on Kamala Harris have spread online — a case study', 'Reuters/Ipsos poll shows Biden lead over Trump growing in Wisconsin, Pennsylvania', 'Joe Biden holds 50-point lead among college students: Poll', 'Thirteen States Set New Infection Records in Week Trump Insisted COVID Is ‘Disappearing’', 'Mike Lee goes maskless at Barrett hearing less than two weeks after testing positive for COVID-19', 'A hate group employee is now leading diversity & inclusion efforts in the Department of Education — Weeks ago, Sarah Parshall Perry was defending J.K. Rowling on the Family Research Council podcasts. Now, Betsy Devos has bought Perry aboard to oversee inclusivity within the DOE.', 'Dianne Feinstein Blasted as ‘Complete’ and ‘Total Failure’ for Normalizing Amy Coney Barrett Hearings', 'All The President’s Men - Looking back at four years of MAGA terror.', 'Our Endorsement: Time for change in U.S. Senate', 'Why “America First” makes wars in other places more likely', 'I Was a Student of Amy Coney Barrett. She Isn’t an LGBTQ Ally.', \"Trump and Biden need to win Wisconsin. The swing state could be 2020 election 'tipping point'\", 'Trump’s Overhaul of Immigration Is Worse Than You Think - This administration has attacked every aspect of the immigration system — and it won’t be easy to undo.', \"Pelosi calls latest Trump stimulus proposal 'grossly inadequate' as Trump revives push\", 'Trump campaign ready to unleash thousands of poll watchers on Election Day', 'Major Nebraska public health reshuffling leaves epidemiologist position in limbo', 'The Latest: Biden blasts Trump, GOP for prioritizing court', 'Republicans fear president’s campaign is slipping: ‘It’s been a long time since Trump has had any good news’', '‘He’s leading us in exactly the wrong direction,’ Baystate President and CEO on Trump and COVID', \"The First Day Of Judge Amy Coney Barrett's Supreme Court Hearing Wasn't Really About Her At All\", 'The President and Immigration Law Series: Executive Power Beyond Enforcement', 'After bad primary experience, many vote early at State Farm Arena', 'Federal judge upholds Minnesota’s extended ballot counting', 'Trump uses Marine Band, raises legal questions', \"Block political texts and ads on your phone. Here's how\", 'Postmaster General Louis DeJoy donated more than $685,000 to the Republican National Convention', 'Pentagon puts on show of force as questions circle on COVID-19 outbreak', 'ABC host says White House blocked Fauci from appearing on show', 'Despite Surge In Volunteers, Some Swing States Still Need Poll Workers', 'Trump’s triple failure: Virus control, stimulus and the trade deficit', 'Goldman says a Biden win could be a ‘positive catalyst’ for oil prices', 'Maine postal workers reassemble high-speed sorting machine', 'Since Trump’s COVID-19 Diagnosis, His Campaign Has Spent More Than $500K on Facebook Ads About It'}\n"
     ]
    }
   ],
   "source": [
    "print(len(set(headlinelist)))\n",
    "headlineset=set(headlinelist)\n",
    "headlinestring=str(headlineset)\n",
    "print(headlinestring)"
   ]
  },
  {
   "cell_type": "code",
   "execution_count": 353,
   "metadata": {},
   "outputs": [],
   "source": [
    "#topicstr=\"\"\n",
    "\n",
    "#for submission in subreddit.hot(limit=10000):\n",
    "    #topics_dict[\"title\"].append(submission.title)\n",
    "    #topics_dict[\"score\"].append(submission.score)\n",
    "    #topicstr+=submission.title+\"     \""
   ]
  },
  {
   "cell_type": "code",
   "execution_count": 354,
   "metadata": {},
   "outputs": [],
   "source": [
    "#topics_data = pd.DataFrame(topics_dict)\n",
    "#topics_data.title[5]\n",
    "#topicstr=topicstr.rstrip()\n",
    "#topicstr"
   ]
  },
  {
   "cell_type": "code",
   "execution_count": 17,
   "metadata": {},
   "outputs": [
    {
     "name": "stdout",
     "output_type": "stream",
     "text": [
      "TensorFlow version: 2.3.1\n"
     ]
    }
   ],
   "source": [
    "import tensorflow as tf\n",
    "print (\"TensorFlow version: \" + tf.__version__)"
   ]
  },
  {
   "cell_type": "code",
   "execution_count": 20,
   "metadata": {},
   "outputs": [],
   "source": [
    "import numpy as np\n",
    "import pandas as pd\n",
    "from keras.models import Sequential\n",
    "from keras.layers import Dense\n",
    "from keras.layers import Dropout\n",
    "from keras.layers import LSTM\n",
    "from keras.utils import np_utils"
   ]
  },
  {
   "cell_type": "code",
   "execution_count": 21,
   "metadata": {},
   "outputs": [],
   "source": [
    "#text=(topics_data.title.to_string(header=False, index=False))"
   ]
  },
  {
   "cell_type": "code",
   "execution_count": 22,
   "metadata": {},
   "outputs": [
    {
     "name": "stdout",
     "output_type": "stream",
     "text": [
      " the people decide.', \"Eric Trump claims his father received 'a vaccine' for Covid-19\n"
     ]
    }
   ],
   "source": [
    "\n",
    "text=headlinestring.lower()\n",
    "print(headlinestring[1115:1200])"
   ]
  },
  {
   "cell_type": "code",
   "execution_count": 23,
   "metadata": {},
   "outputs": [],
   "source": [
    "characters = sorted(list(set(text)))\n",
    "n_to_char = {n:char for n, char in enumerate(characters)}\n",
    "char_to_n = {char:n for n, char in enumerate(characters)}\n"
   ]
  },
  {
   "cell_type": "code",
   "execution_count": 24,
   "metadata": {},
   "outputs": [],
   "source": [
    "X = []\n",
    "Y = []\n",
    "length = len(text)\n",
    "seq_length = 100\n",
    "for i in range(0, length-seq_length, 1):\n",
    "    sequence = text[i:i + seq_length]\n",
    "    label =text[i + seq_length]\n",
    "    X.append([char_to_n[char] for char in sequence])\n",
    "    Y.append(char_to_n[label])"
   ]
  },
  {
   "cell_type": "code",
   "execution_count": 25,
   "metadata": {},
   "outputs": [],
   "source": [
    "X_modified = np.reshape(X, (len(X), seq_length, 1))\n",
    "X_modified = X_modified / float(len(characters))\n",
    "Y_modified = np_utils.to_categorical(Y)"
   ]
  },
  {
   "cell_type": "code",
   "execution_count": 26,
   "metadata": {},
   "outputs": [],
   "source": [
    "model = Sequential()\n",
    "model.add(LSTM(700, input_shape=(X_modified.shape[1], X_modified.shape[2]), return_sequences=True))\n",
    "model.add(Dropout(0.2))\n",
    "model.add(LSTM(700, return_sequences=True))\n",
    "model.add(Dropout(0.2))\n",
    "model.add(LSTM(700))\n",
    "model.add(Dropout(0.2))\n",
    "model.add(Dense(Y_modified.shape[1], activation='softmax'))\n",
    "\n",
    "model.compile(loss='categorical_crossentropy', optimizer='adam')"
   ]
  },
  {
   "cell_type": "code",
   "execution_count": null,
   "metadata": {},
   "outputs": [
    {
     "name": "stdout",
     "output_type": "stream",
     "text": [
      "Epoch 1/7\n",
      "   1/1476 [..............................] - ETA: 1s - loss: 4.1898"
     ]
    }
   ],
   "source": [
    "\n",
    "model.fit(X_modified, Y_modified, epochs=7, batch_size=50)\n",
    "\n",
    "model.save_weights('text_generator_gigantic.h5')"
   ]
  },
  {
   "cell_type": "code",
   "execution_count": null,
   "metadata": {},
   "outputs": [],
   "source": [
    "#model.save_weights('text_generator_400_0.2_400_0.2_400_0.2_1003.h5')\n",
    "model.load_weights('text_generator_gigantic.h5')"
   ]
  },
  {
   "cell_type": "code",
   "execution_count": null,
   "metadata": {},
   "outputs": [],
   "source": [
    "#model.load_weights('text_generator_400_0.2_400_0.2_400_0.2_1003.h5')"
   ]
  },
  {
   "cell_type": "code",
   "execution_count": null,
   "metadata": {},
   "outputs": [],
   "source": [
    "string_mapped = X[3333]\n",
    "full_string = [n_to_char[value] for value in string_mapped]\n",
    "# generating characters\n",
    "for i in range(400):\n",
    "    x = np.reshape(string_mapped,(1,len(string_mapped), 1))\n",
    "    x = x / float(len(characters))\n",
    "\n",
    "    pred_index = np.argmax(model.predict(x, verbose=0))\n",
    "    seq = [n_to_char[value] for value in string_mapped]\n",
    "    full_string.append(n_to_char[pred_index])\n",
    "\n",
    "    string_mapped.append(pred_index)\n",
    "    string_mapped = string_mapped[1:len(string_mapped)]\n"
   ]
  },
  {
   "cell_type": "code",
   "execution_count": null,
   "metadata": {},
   "outputs": [],
   "source": [
    "len(X)"
   ]
  },
  {
   "cell_type": "code",
   "execution_count": null,
   "metadata": {
    "scrolled": true
   },
   "outputs": [],
   "source": [
    "txt=\"\"\n",
    "for char in full_string:\n",
    "    txt = txt+char\n",
    "txt"
   ]
  },
  {
   "cell_type": "code",
   "execution_count": 112,
   "metadata": {},
   "outputs": [],
   "source": []
  },
  {
   "cell_type": "code",
   "execution_count": 113,
   "metadata": {},
   "outputs": [],
   "source": []
  },
  {
   "cell_type": "code",
   "execution_count": 114,
   "metadata": {},
   "outputs": [],
   "source": []
  },
  {
   "cell_type": "code",
   "execution_count": null,
   "metadata": {},
   "outputs": [],
   "source": []
  },
  {
   "cell_type": "code",
   "execution_count": 165,
   "metadata": {
    "scrolled": false
   },
   "outputs": [],
   "source": []
  },
  {
   "cell_type": "code",
   "execution_count": null,
   "metadata": {},
   "outputs": [],
   "source": []
  },
  {
   "cell_type": "code",
   "execution_count": null,
   "metadata": {},
   "outputs": [],
   "source": []
  },
  {
   "cell_type": "code",
   "execution_count": null,
   "metadata": {},
   "outputs": [],
   "source": []
  },
  {
   "cell_type": "code",
   "execution_count": null,
   "metadata": {},
   "outputs": [],
   "source": []
  }
 ],
 "metadata": {
  "kernelspec": {
   "display_name": "Python 3",
   "language": "python",
   "name": "python3"
  },
  "language_info": {
   "codemirror_mode": {
    "name": "ipython",
    "version": 3
   },
   "file_extension": ".py",
   "mimetype": "text/x-python",
   "name": "python",
   "nbconvert_exporter": "python",
   "pygments_lexer": "ipython3",
   "version": "3.7.6"
  }
 },
 "nbformat": 4,
 "nbformat_minor": 2
}
